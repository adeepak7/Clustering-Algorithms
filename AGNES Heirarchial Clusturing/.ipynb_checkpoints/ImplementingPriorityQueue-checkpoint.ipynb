{
 "cells": [
  {
   "cell_type": "code",
   "execution_count": 15,
   "metadata": {},
   "outputs": [
    {
     "name": "stdout",
     "output_type": "stream",
     "text": [
      "1\n",
      "2\n",
      "7\n",
      "8\n",
      "16\n"
     ]
    }
   ],
   "source": [
    "\"\"\"\n",
    "    Deepak Ahire\n",
    "    Final Year BTech CSE, WCE Sangli.\n",
    "\"\"\"\n",
    "\n",
    "import numpy as np\n",
    "import heapq\n",
    "import math\n",
    "\n",
    "\n",
    "#Code to overload the priority queue in python:\n",
    "class DataPoint:\n",
    "        a1 = 0\n",
    "        a2 = 0\n",
    "        a3 = 0\n",
    "        a4 = 0\n",
    "        y = -1\n",
    "        \n",
    "        def __init__(self,a1,a2,a3,a4,y):\n",
    "            self.a1 = a1\n",
    "            self.a2 = a2\n",
    "            self.a3 = a3\n",
    "            self.a4 = a4\n",
    "            self.y = y\n",
    "            \n",
    "\n",
    "class PriorityQueue:\n",
    "    def __init__(self):\n",
    "        self._queue = []\n",
    "        self._index = 0\n",
    "        self._count = 0\n",
    "    def push(self, item, priority):\n",
    "        heapq.heappush(self._queue, (priority, self._index, item))\n",
    "        self._index += 1\n",
    "        self._count += 1\n",
    "\n",
    "    def pop(self):\n",
    "        self._count -= 1\n",
    "        return heapq.heappop(self._queue)[-1]\n",
    "\n",
    "    def queue_size(self):\n",
    "        return self._count\n",
    "\n",
    "    def is_empty(self):\n",
    "        return self._count == 0\n",
    "\n",
    "q = PriorityQueue()\n",
    "dataPoint = DataPoint(1,2,3,4,0)\n",
    "q.push(dataPoint,dataPoint.a1)\n",
    "dataPoint = DataPoint(7,2,3,4,0)\n",
    "q.push(dataPoint,dataPoint.a1)\n",
    "dataPoint = DataPoint(2,2,3,4,0)\n",
    "q.push(dataPoint,dataPoint.a1)\n",
    "dataPoint = DataPoint(8,2,3,4,0)\n",
    "q.push(dataPoint,dataPoint.a1)\n",
    "dataPoint = DataPoint(16,2,3,4,0)\n",
    "q.push(dataPoint,dataPoint.a1)\n",
    "\n",
    "while not q.is_empty():\n",
    "    print(q.pop().a1)"
   ]
  },
  {
   "cell_type": "code",
   "execution_count": null,
   "metadata": {
    "collapsed": true
   },
   "outputs": [],
   "source": []
  },
  {
   "cell_type": "code",
   "execution_count": null,
   "metadata": {
    "collapsed": true
   },
   "outputs": [],
   "source": []
  },
  {
   "cell_type": "code",
   "execution_count": null,
   "metadata": {
    "collapsed": true
   },
   "outputs": [],
   "source": []
  },
  {
   "cell_type": "code",
   "execution_count": null,
   "metadata": {
    "collapsed": true
   },
   "outputs": [],
   "source": []
  },
  {
   "cell_type": "code",
   "execution_count": null,
   "metadata": {
    "collapsed": true
   },
   "outputs": [],
   "source": []
  },
  {
   "cell_type": "code",
   "execution_count": null,
   "metadata": {
    "collapsed": true
   },
   "outputs": [],
   "source": []
  },
  {
   "cell_type": "code",
   "execution_count": null,
   "metadata": {
    "collapsed": true
   },
   "outputs": [],
   "source": []
  },
  {
   "cell_type": "code",
   "execution_count": null,
   "metadata": {
    "collapsed": true
   },
   "outputs": [],
   "source": []
  },
  {
   "cell_type": "code",
   "execution_count": null,
   "metadata": {
    "collapsed": true
   },
   "outputs": [],
   "source": []
  },
  {
   "cell_type": "code",
   "execution_count": null,
   "metadata": {
    "collapsed": true
   },
   "outputs": [],
   "source": []
  },
  {
   "cell_type": "code",
   "execution_count": null,
   "metadata": {
    "collapsed": true
   },
   "outputs": [],
   "source": []
  },
  {
   "cell_type": "code",
   "execution_count": null,
   "metadata": {
    "collapsed": true
   },
   "outputs": [],
   "source": []
  },
  {
   "cell_type": "code",
   "execution_count": null,
   "metadata": {
    "collapsed": true
   },
   "outputs": [],
   "source": []
  },
  {
   "cell_type": "code",
   "execution_count": null,
   "metadata": {
    "collapsed": true
   },
   "outputs": [],
   "source": []
  }
 ],
 "metadata": {
  "kernelspec": {
   "display_name": "Python 3",
   "language": "python",
   "name": "python3"
  },
  "language_info": {
   "codemirror_mode": {
    "name": "ipython",
    "version": 3
   },
   "file_extension": ".py",
   "mimetype": "text/x-python",
   "name": "python",
   "nbconvert_exporter": "python",
   "pygments_lexer": "ipython3",
   "version": "3.6.2"
  }
 },
 "nbformat": 4,
 "nbformat_minor": 2
}
